{
 "cells": [
  {
   "cell_type": "code",
   "execution_count": 4,
   "metadata": {},
   "outputs": [],
   "source": [
    "import fireworks.client\n",
    "import os\n",
    "import dotenv\n",
    "import chromadb\n",
    "import json\n",
    "from tqdm.auto import tqdm\n",
    "import pandas as pd\n",
    "import random\n",
    "\n",
    "# you can set envs using Colab secrets\n",
    "dotenv.load_dotenv()\n",
    "\n",
    "fireworks.client.api_key = os.getenv(\"FIREWORKS_API_KEY\")"
   ]
  },
  {
   "cell_type": "code",
   "execution_count": 5,
   "metadata": {},
   "outputs": [],
   "source": [
    "def get_completion(prompt, model=None, max_tokens=50):\n",
    "\n",
    "    fw_model_dir = \"accounts/fireworks/models/\"\n",
    "\n",
    "    if model is None:\n",
    "        model = fw_model_dir + \"llama-v2-7b\"\n",
    "    else:\n",
    "        model = fw_model_dir + model\n",
    "\n",
    "    completion = fireworks.client.Completion.create(\n",
    "        model=model,\n",
    "        prompt=prompt,\n",
    "        max_tokens=max_tokens,\n",
    "        temperature=0\n",
    "    )\n",
    "\n",
    "    return completion.choices[0].text"
   ]
  },
  {
   "cell_type": "code",
   "execution_count": 50,
   "metadata": {},
   "outputs": [
    {
     "data": {
      "text/plain": [
       "'\\nI am a 20 year old female. I am a student at the University of North Carolina at Chapel Hill. I am a member of the UNC Dance Team. I am a member of the UNC Dance Team. I am'"
      ]
     },
     "execution_count": 50,
     "metadata": {},
     "output_type": "execute_result"
    }
   ],
   "source": [
    "get_completion(\"Hello, my name is?\")"
   ]
  },
  {
   "cell_type": "code",
   "execution_count": 51,
   "metadata": {},
   "outputs": [
    {
     "data": {
      "text/plain": [
       "' [Your Name]. I am a [Your Profession/Occupation]. I am writing to [Purpose of Writing].\\n\\nI am writing to [Purpose of Writing] because [Reason for Writing]. I believe that ['"
      ]
     },
     "execution_count": 51,
     "metadata": {},
     "output_type": "execute_result"
    }
   ],
   "source": [
    "mistral_llm = \"mistral-7b-instruct-4k\"\n",
    "\n",
    "get_completion(\"Hello, my name is\", model=mistral_llm)\n"
   ]
  },
  {
   "cell_type": "code",
   "execution_count": 52,
   "metadata": {},
   "outputs": [
    {
     "data": {
      "text/plain": [
       "\".\\n1. Why don't scientists trust atoms? Because they make up everything!\\n2. Did you hear about the mathematician who’s afraid of negative numbers? He will stop at nothing to avoid them.\""
      ]
     },
     "execution_count": 52,
     "metadata": {},
     "output_type": "execute_result"
    }
   ],
   "source": [
    "mistral_llm = \"mistral-7b-instruct-4k\"\n",
    "\n",
    "get_completion(\"Tell me 2 jokes\", model=mistral_llm)"
   ]
  },
  {
   "cell_type": "code",
   "execution_count": 13,
   "metadata": {},
   "outputs": [
    {
     "data": {
      "text/plain": [
       "\" Sure, here are two jokes for you:\\n\\n1. Why don't scientists trust atoms? Because they make up everything!\\n2. Why did the tomato turn red? Because it saw the salad dressing!\""
      ]
     },
     "execution_count": 13,
     "metadata": {},
     "output_type": "execute_result"
    }
   ],
   "source": [
    "mistral_llm = \"mistral-7b-instruct-4k\"\n",
    "\n",
    "get_completion(\"[INST]Tell me 2 jokes[/INST]\", model=mistral_llm)"
   ]
  },
  {
   "cell_type": "code",
   "execution_count": 54,
   "metadata": {},
   "outputs": [
    {
     "data": {
      "text/plain": [
       "\" Dear John Doe,\\n\\nWe, Tom and Mary, would like to extend our heartfelt gratitude for your attendance at our wedding. It was a pleasure to have you there, and we truly appreciate the effort you made to be a part of our special day.\\n\\nWe were thrilled to learn about your fun fact - climbing Mount Everest is an incredible accomplishment! We hope you had a safe and memorable journey.\\n\\nThank you again for joining us on this special occasion. We hope to stay in touch and catch up on all the amazing things you've been up to.\\n\\nWith love,\\n\\nTom and Mary\""
      ]
     },
     "execution_count": 54,
     "metadata": {},
     "output_type": "execute_result"
    }
   ],
   "source": [
    "prompt = \"\"\"[INST]\n",
    "Given the following wedding guest data, write a very short 3-sentences thank you letter:\n",
    "\n",
    "{\n",
    "  \"name\": \"John Doe\",\n",
    "  \"relationship\": \"Bride's cousin\",\n",
    "  \"hometown\": \"New York, NY\",\n",
    "  \"fun_fact\": \"Climbed Mount Everest in 2020\",\n",
    "  \"attending_with\": \"Sophia Smith\",\n",
    "  \"bride_groom_name\": \"Tom and Mary\"\n",
    "}\n",
    "\n",
    "Use only the data provided in the JSON object above.\n",
    "\n",
    "The senders of the letter is the bride and groom, Tom and Mary.\n",
    "[/INST]\"\"\"\n",
    "\n",
    "get_completion(prompt, model=mistral_llm, max_tokens=150)"
   ]
  },
  {
   "cell_type": "markdown",
   "metadata": {},
   "source": [
    "<h1>Load Dataset of ML papers of the week</h1>\n"
   ]
  },
  {
   "cell_type": "code",
   "execution_count": 6,
   "metadata": {},
   "outputs": [],
   "source": [
    "# load dataset from data/ folder to pandas dataframe\n",
    "# dataset contains column names\n",
    "\n",
    "ml_papers = pd.read_csv(\"mlpapers-otw.csv\", header=0)\n",
    "\n",
    "# remove rows with empty titles or descriptions\n",
    "ml_papers = ml_papers.dropna(subset=[\"Title\", \"Description\"])"
   ]
  },
  {
   "cell_type": "code",
   "execution_count": 56,
   "metadata": {},
   "outputs": [
    {
     "data": {
      "text/html": [
       "<div>\n",
       "<style scoped>\n",
       "    .dataframe tbody tr th:only-of-type {\n",
       "        vertical-align: middle;\n",
       "    }\n",
       "\n",
       "    .dataframe tbody tr th {\n",
       "        vertical-align: top;\n",
       "    }\n",
       "\n",
       "    .dataframe thead th {\n",
       "        text-align: right;\n",
       "    }\n",
       "</style>\n",
       "<table border=\"1\" class=\"dataframe\">\n",
       "  <thead>\n",
       "    <tr style=\"text-align: right;\">\n",
       "      <th></th>\n",
       "      <th>Title</th>\n",
       "      <th>Description</th>\n",
       "      <th>PaperURL</th>\n",
       "      <th>TweetURL</th>\n",
       "      <th>Abstract</th>\n",
       "    </tr>\n",
       "  </thead>\n",
       "  <tbody>\n",
       "    <tr>\n",
       "      <th>0</th>\n",
       "      <td>Llemma</td>\n",
       "      <td>an LLM for mathematics which is based on conti...</td>\n",
       "      <td>https://arxiv.org/abs/2310.10631</td>\n",
       "      <td>https://x.com/zhangir_azerbay/status/171409802...</td>\n",
       "      <td>We present Llemma, a large language model for ...</td>\n",
       "    </tr>\n",
       "    <tr>\n",
       "      <th>1</th>\n",
       "      <td>LLMs for Software Engineering</td>\n",
       "      <td>a comprehensive survey of LLMs for software en...</td>\n",
       "      <td>https://arxiv.org/abs/2310.03533</td>\n",
       "      <td>https://x.com/omarsar0/status/1713940983199506...</td>\n",
       "      <td>This paper provides a survey of the emerging a...</td>\n",
       "    </tr>\n",
       "    <tr>\n",
       "      <th>2</th>\n",
       "      <td>Self-RAG</td>\n",
       "      <td>presents a new retrieval-augmented framework t...</td>\n",
       "      <td>https://arxiv.org/abs/2310.11511</td>\n",
       "      <td>https://x.com/AkariAsai/status/171511027707796...</td>\n",
       "      <td>Despite their remarkable capabilities, large l...</td>\n",
       "    </tr>\n",
       "    <tr>\n",
       "      <th>3</th>\n",
       "      <td>Retrieval-Augmentation for Long-form Question ...</td>\n",
       "      <td>explores retrieval-augmented language models o...</td>\n",
       "      <td>https://arxiv.org/abs/2310.12150</td>\n",
       "      <td>https://x.com/omarsar0/status/1714986431859282...</td>\n",
       "      <td>We present a study of retrieval-augmented lang...</td>\n",
       "    </tr>\n",
       "    <tr>\n",
       "      <th>4</th>\n",
       "      <td>GenBench</td>\n",
       "      <td>presents a framework for characterizing and un...</td>\n",
       "      <td>https://www.nature.com/articles/s42256-023-007...</td>\n",
       "      <td>https://x.com/AIatMeta/status/1715041427283902...</td>\n",
       "      <td>NaN</td>\n",
       "    </tr>\n",
       "  </tbody>\n",
       "</table>\n",
       "</div>"
      ],
      "text/plain": [
       "                                               Title  \\\n",
       "0                                             Llemma   \n",
       "1                      LLMs for Software Engineering   \n",
       "2                                           Self-RAG   \n",
       "3  Retrieval-Augmentation for Long-form Question ...   \n",
       "4                                           GenBench   \n",
       "\n",
       "                                         Description  \\\n",
       "0  an LLM for mathematics which is based on conti...   \n",
       "1  a comprehensive survey of LLMs for software en...   \n",
       "2  presents a new retrieval-augmented framework t...   \n",
       "3  explores retrieval-augmented language models o...   \n",
       "4  presents a framework for characterizing and un...   \n",
       "\n",
       "                                            PaperURL  \\\n",
       "0                   https://arxiv.org/abs/2310.10631   \n",
       "1                   https://arxiv.org/abs/2310.03533   \n",
       "2                   https://arxiv.org/abs/2310.11511   \n",
       "3                   https://arxiv.org/abs/2310.12150   \n",
       "4  https://www.nature.com/articles/s42256-023-007...   \n",
       "\n",
       "                                            TweetURL  \\\n",
       "0  https://x.com/zhangir_azerbay/status/171409802...   \n",
       "1  https://x.com/omarsar0/status/1713940983199506...   \n",
       "2  https://x.com/AkariAsai/status/171511027707796...   \n",
       "3  https://x.com/omarsar0/status/1714986431859282...   \n",
       "4  https://x.com/AIatMeta/status/1715041427283902...   \n",
       "\n",
       "                                            Abstract  \n",
       "0  We present Llemma, a large language model for ...  \n",
       "1  This paper provides a survey of the emerging a...  \n",
       "2  Despite their remarkable capabilities, large l...  \n",
       "3  We present a study of retrieval-augmented lang...  \n",
       "4                                                NaN  "
      ]
     },
     "execution_count": 56,
     "metadata": {},
     "output_type": "execute_result"
    }
   ],
   "source": [
    "ml_papers.head()"
   ]
  },
  {
   "cell_type": "code",
   "execution_count": 7,
   "metadata": {},
   "outputs": [
    {
     "data": {
      "text/plain": [
       "{'Title': 'Llemma',\n",
       " 'Description': 'an LLM for mathematics which is based on continued pretraining from Code Llama on the Proof-Pile-2 dataset; the dataset involves scientific paper, web data containing mathematics, and mathematical code; Llemma outperforms open base models and the unreleased Minerva on the MATH benchmark; the model is released, including dataset and code to replicate experiments.',\n",
       " 'PaperURL': 'https://arxiv.org/abs/2310.10631',\n",
       " 'TweetURL': 'https://x.com/zhangir_azerbay/status/1714098025956864031?s=20',\n",
       " 'Abstract': 'We present Llemma, a large language model for mathematics. We continue pretraining Code Llama on the Proof-Pile-2, a mixture of scientific papers, web data containing mathematics, and mathematical code, yielding Llemma. On the MATH benchmark Llemma outperforms all known open base models, as well as the unreleased Minerva model suite on an equi-parameter basis. Moreover, Llemma is capable of tool use and formal theorem proving without any further finetuning. We openly release all artifacts, including 7 billion and 34 billion parameter models, the Proof-Pile-2, and code to replicate our experiments.'}"
      ]
     },
     "execution_count": 7,
     "metadata": {},
     "output_type": "execute_result"
    }
   ],
   "source": [
    "ml_papers_dict = ml_papers.to_dict(orient=\"records\")\n",
    "ml_papers_dict[0]"
   ]
  },
  {
   "cell_type": "code",
   "execution_count": 9,
   "metadata": {},
   "outputs": [],
   "source": [
    "from chromadb import Documents, EmbeddingFunction, Embeddings\n",
    "from sentence_transformers import SentenceTransformer\n",
    "embedding_model = SentenceTransformer('all-MiniLM-L6-v2')\n",
    "\n",
    "class MyEmbeddingFunction(EmbeddingFunction):\n",
    "    def __call__(self, input: Documents) -> Embeddings:\n",
    "        batch_embeddings = embedding_model.encode(input)\n",
    "        return batch_embeddings.tolist()\n",
    "\n",
    "embed_fn = MyEmbeddingFunction()\n",
    "\n",
    "# Initialize the chromadb directory, and client.\n",
    "client = chromadb.PersistentClient(path=\"./chromadb\")\n",
    "\n",
    "# create collection\n",
    "collection = client.get_or_create_collection(\n",
    "    name=f\"ml-papers\"\n",
    ")"
   ]
  },
  {
   "cell_type": "code",
   "execution_count": 10,
   "metadata": {},
   "outputs": [
    {
     "data": {
      "application/vnd.jupyter.widget-view+json": {
       "model_id": "e2cb7f4415e641a5905848eff088c1f7",
       "version_major": 2,
       "version_minor": 0
      },
      "text/plain": [
       "  0%|          | 0/9 [00:00<?, ?it/s]"
      ]
     },
     "metadata": {},
     "output_type": "display_data"
    }
   ],
   "source": [
    "# Generate embeddings, and index titles in batches\n",
    "batch_size = 50\n",
    "\n",
    "# loop through batches and generated + store embeddings\n",
    "for i in tqdm(range(0, len(ml_papers_dict), batch_size)):\n",
    "\n",
    "    i_end = min(i + batch_size, len(ml_papers_dict))\n",
    "    batch = ml_papers_dict[i : i + batch_size]\n",
    "\n",
    "    # Replace title with \"No Title\" if empty string\n",
    "    batch_titles = [str(paper[\"Title\"]) if str(paper[\"Title\"]) != \"\" else \"No Title\" for paper in batch]\n",
    "    batch_ids = [str(sum(ord(c) + random.randint(1, 10000) for c in paper[\"Title\"])) for paper in batch]\n",
    "    batch_metadata = [dict(url=paper[\"PaperURL\"],\n",
    "                           abstract=paper['Abstract'])\n",
    "                           for paper in batch]\n",
    "\n",
    "    # generate embeddings\n",
    "    batch_embeddings = embedding_model.encode(batch_titles)\n",
    "\n",
    "    # upsert to chromadb\n",
    "    collection.upsert(\n",
    "        ids=batch_ids,\n",
    "        metadatas=batch_metadata,\n",
    "        documents=batch_titles,\n",
    "        embeddings=batch_embeddings.tolist(),\n",
    "    )"
   ]
  },
  {
   "cell_type": "code",
   "execution_count": 11,
   "metadata": {},
   "outputs": [
    {
     "name": "stdout",
     "output_type": "stream",
     "text": [
      "[['LLMs for Software Engineering', 'Communicative Agents for Software Development']]\n"
     ]
    }
   ],
   "source": [
    "collection = client.get_or_create_collection(\n",
    "    name=f\"ml-papers\",\n",
    "    embedding_function=embed_fn\n",
    ")\n",
    "\n",
    "retriever_results = collection.query(\n",
    "    query_texts=[\"Software Engineering\"],\n",
    "    n_results=2,\n",
    ")\n",
    "\n",
    "print(retriever_results[\"documents\"])"
   ]
  },
  {
   "cell_type": "code",
   "execution_count": 14,
   "metadata": {},
   "outputs": [
    {
     "name": "stdout",
     "output_type": "stream",
     "text": [
      "Model Suggestions:\n",
      "\n",
      "1. S3Eval: A Comprehensive Evaluation Suite for Large Language Models\n",
      "2. Synthetic and Scalable Evaluation for Large Language Models\n",
      "3. Systematic Evaluation of Large Language Models with S3Eval\n",
      "4. S3Eval: A Synthetic and Scalable Approach to Language Model Evaluation\n",
      "5. S3Eval: A Synthetic and Scalable Evaluation Suite for Large Language Models\n",
      "\n",
      "\n",
      "\n",
      "Prompt Template:\n",
      "[INST]\n",
      "\n",
      "Your main task is to generate 5 SUGGESTED_TITLES based for the PAPER_TITLE\n",
      "\n",
      "You should mimic a similar style and length as SHORT_TITLES but PLEASE DO NOT include titles from SHORT_TITLES in the SUGGESTED_TITLES, only generate versions of the PAPER_TILE.\n",
      "\n",
      "PAPER_TITLE: S3Eval: A Synthetic, Scalable, Systematic Evaluation Suite for Large Language Models\n",
      "\n",
      "SHORT_TITLES: Pythia: A Suite for Analyzing Large Language Models Across Training and Scaling\n",
      "ChemCrow: Augmenting large-language models with chemistry tools\n",
      "A Survey of Large Language Models\n",
      "LLaMA: Open and Efficient Foundation Language Models\n",
      "SparseGPT: Massive Language Models Can Be Accurately Pruned In One-Shot\n",
      "REPLUG: Retrieval-Augmented Black-Box Language Models\n",
      "LLaMA-Adapter: Efficient Fine-tuning of Language Models with Zero-init Attention\n",
      "Auditing large language models: a three-layered approach\n",
      "Fine-Tuning Language Models with Just Forward Passes\n",
      "DERA: Enhancing Large Language Model Completions with Dialog-Enabled Resolving Agents\n",
      "\n",
      "SUGGESTED_TITLES:\n",
      "\n",
      "[/INST]\n",
      "\n"
     ]
    }
   ],
   "source": [
    "# user query\n",
    "user_query = \"S3Eval: A Synthetic, Scalable, Systematic Evaluation Suite for Large Language Models\"\n",
    "\n",
    "# query for user query\n",
    "results = collection.query(\n",
    "    query_texts=[user_query],\n",
    "    n_results=10,\n",
    ")\n",
    "\n",
    "# concatenate titles into a single string\n",
    "short_titles = '\\n'.join(results['documents'][0])\n",
    "\n",
    "prompt_template = f'''[INST]\n",
    "\n",
    "Your main task is to generate 5 SUGGESTED_TITLES based for the PAPER_TITLE\n",
    "\n",
    "You should mimic a similar style and length as SHORT_TITLES but PLEASE DO NOT include titles from SHORT_TITLES in the SUGGESTED_TITLES, only generate versions of the PAPER_TILE.\n",
    "\n",
    "PAPER_TITLE: {user_query}\n",
    "\n",
    "SHORT_TITLES: {short_titles}\n",
    "\n",
    "SUGGESTED_TITLES:\n",
    "\n",
    "[/INST]\n",
    "'''\n",
    "\n",
    "responses = get_completion(prompt_template, model=mistral_llm, max_tokens=2000)\n",
    "suggested_titles = ''.join([str(r) for r in responses])\n",
    "\n",
    "# Print the suggestions.\n",
    "print(\"Model Suggestions:\")\n",
    "print(suggested_titles)\n",
    "print(\"\\n\\n\\nPrompt Template:\")\n",
    "print(prompt_template)"
   ]
  }
 ],
 "metadata": {
  "kernelspec": {
   "display_name": "venv",
   "language": "python",
   "name": "python3"
  },
  "language_info": {
   "codemirror_mode": {
    "name": "ipython",
    "version": 3
   },
   "file_extension": ".py",
   "mimetype": "text/x-python",
   "name": "python",
   "nbconvert_exporter": "python",
   "pygments_lexer": "ipython3",
   "version": "3.11.5"
  }
 },
 "nbformat": 4,
 "nbformat_minor": 2
}
